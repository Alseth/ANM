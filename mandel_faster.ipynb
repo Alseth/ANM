{
 "cells": [
  {
   "cell_type": "code",
   "execution_count": 1,
   "metadata": {
    "collapsed": true
   },
   "outputs": [],
   "source": [
    "import numpy as np\n",
    "import matplotlib.pyplot as plt\n",
    "%matplotlib inline"
   ]
  },
  {
   "cell_type": "code",
   "execution_count": 2,
   "metadata": {
    "collapsed": true
   },
   "outputs": [],
   "source": [
    "def mandelbrot(rlim, ilim, n=100, d=1000):\n",
    "    r, i = np.meshgrid(np.linspace(rlim[0], rlim[1], d),\n",
    "                      np.linspace(ilim[0], ilim[1], d))\n",
    "    c = r+i*1j\n",
    "    z = np.copy(c)\n",
    "    fractal = np.ones_like(z, dtype=np.uint8) * 255\n",
    "    for j in range(n):\n",
    "        mask = abs(z) <= 10\n",
    "        z[mask] *= z[mask]\n",
    "        z[mask] += c[mask]\n",
    "        fractal[(fractal == 255) & ~mask] = 254 * j / n\n",
    "    return fractal\n",
    "\n"
   ]
  },
  {
   "cell_type": "code",
   "execution_count": 3,
   "metadata": {
    "collapsed": false
   },
   "outputs": [],
   "source": [
    "counter = 0\n",
    "while counter < 100:\n",
    "    reduction = 0.0005*counter\n",
    "    plt.figure(figsize=(18,18))\n",
    "    plt.imshow(mandelbrot((-0.22+reduction, -0.21-reduction), (-0.70+reduction, -0.69-reduction)))\n",
    "    plt.savefig('tmp%04d.png' % counter)\n",
    "    counter += 1"
   ]
  },
  {
   "cell_type": "code",
   "execution_count": null,
   "metadata": {
    "collapsed": true
   },
   "outputs": [],
   "source": []
  }
 ],
 "metadata": {
  "kernelspec": {
   "display_name": "Python 2",
   "language": "python",
   "name": "python2"
  },
  "language_info": {
   "codemirror_mode": {
    "name": "ipython",
    "version": 2
   },
   "file_extension": ".py",
   "mimetype": "text/x-python",
   "name": "python",
   "nbconvert_exporter": "python",
   "pygments_lexer": "ipython2",
   "version": "2.7.11"
  }
 },
 "nbformat": 4,
 "nbformat_minor": 0
}
