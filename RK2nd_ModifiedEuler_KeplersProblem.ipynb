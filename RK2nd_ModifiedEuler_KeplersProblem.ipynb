{
 "cells": [
  {
   "cell_type": "code",
   "execution_count": 1,
   "metadata": {
    "collapsed": false
   },
   "outputs": [
    {
     "name": "stdout",
     "output_type": "stream",
     "text": [
      "Populating the interactive namespace from numpy and matplotlib\n"
     ]
    }
   ],
   "source": [
    "from __future__ import division\n",
    "import numpy as np\n",
    "%pylab inline\n",
    "import matplotlib.pyplot as plt"
   ]
  },
  {
   "cell_type": "code",
   "execution_count": 4,
   "metadata": {
    "collapsed": true
   },
   "outputs": [],
   "source": [
    "#time step & setup - as in the lectures\n",
    "N = 40000\n",
    "t1 = 0\n",
    "t2 = 1.5\n",
    "t = np.linspace(t1,t2,N)\n",
    "h = (t2-t1)/float(N)\n",
    "y = np.zeros((np.size(t),4))\n",
    "# initial conditions\n",
    "a = 1.0\n",
    "e = 0.00\n",
    "GM = 4.0*(np.pi)**2\n",
    "x_0 = 0.0\n",
    "y_0 = a*(1 - e)\n",
    "u_0 = -np.sqrt((GM/float(a))*((1+e)/(1-e)))\n",
    "v_0 = 0"
   ]
  },
  {
   "cell_type": "code",
   "execution_count": 5,
   "metadata": {
    "collapsed": false
   },
   "outputs": [
    {
     "data": {
      "text/plain": [
       "[<matplotlib.lines.Line2D at 0x7503c88>]"
      ]
     },
     "execution_count": 5,
     "metadata": {},
     "output_type": "execute_result"
    },
    {
     "data": {
      "image/png": "[encoded data removed]",
      "text/plain": [
       "<matplotlib.figure.Figure at 0x744ef28>"
      ]
     },
     "metadata": {},
     "output_type": "display_data"
    }
   ],
   "source": [
    "def f_x(u):   # dx/dt = u\n",
    "        return u\n",
    "def f_y(v):   # dy/dt = v\n",
    "        return v\n",
    "def f_u(x, r):   # du/dt = -(GM/r^3)x\n",
    "        return -(GM/(r**3))*x\n",
    "def f_v(y, r):   # dv/dt = -(GM/r^3)y\n",
    "        return -(GM/(r**3))*y\n",
    "\n",
    "def modified_euler(x_0, y_0, u_0, v_0):\n",
    "    x_list = [x_0]\n",
    "    y_list = [y_0]\n",
    "    u_list = [u_0]\n",
    "    v_list = [v_0]\n",
    "    for i in range(len(t)):\n",
    "        x = x_list[-1]\n",
    "        y = y_list[-1]\n",
    "        u = u_list[-1]\n",
    "        v = v_list[-1]\n",
    "        \n",
    "        r = np.sqrt(x**2 + y**2)\n",
    "        \n",
    "        k0x = h*f_x(u)\n",
    "        k0y = h*f_y(v)\n",
    "        k0u = h*f_u(x, r)\n",
    "        k0v = h*f_v(y, r)\n",
    "        \n",
    "        k1x = h*f_x(u + 0.5*k0x)\n",
    "        k1y = h*f_y(v + 0.5*k0y)\n",
    "        k1u = h*f_u(x + 0.5*k0u, r)\n",
    "        k1v = h*f_v(y + 0.5*k0v, r)\n",
    "    \n",
    "        x_list.append(x + k1x)\n",
    "        y_list.append(y + k1y)\n",
    "        u_list.append(u + k1u)\n",
    "        v_list.append(v + k1v)\n",
    "    \n",
    "    return x_list, y_list\n",
    "\n",
    "res_x, res_y = modified_euler(x_0, y_0, u_0, v_0)\n",
    "\n",
    "plt.plot(res_x, res_y, '.')\n",
    "        "
   ]
  },
  {
   "cell_type": "code",
   "execution_count": null,
   "metadata": {
    "collapsed": true
   },
   "outputs": [],
   "source": []
  }
 ],
 "metadata": {
  "kernelspec": {
   "display_name": "Python 2",
   "language": "python",
   "name": "python2"
  },
  "language_info": {
   "codemirror_mode": {
    "name": "ipython",
    "version": 2
   },
   "file_extension": ".py",
   "mimetype": "text/x-python",
   "name": "python",
   "nbconvert_exporter": "python",
   "pygments_lexer": "ipython2",
   "version": "2.7.11"
  }
 },
 "nbformat": 4,
 "nbformat_minor": 0
}
