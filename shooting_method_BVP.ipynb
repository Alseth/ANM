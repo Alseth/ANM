{
 "cells": [
  {
   "cell_type": "code",
   "execution_count": 192,
   "metadata": {
    "collapsed": true
   },
   "outputs": [],
   "source": [
    "import numpy as np\n",
    "import matplotlib.pyplot as plt\n",
    "%matplotlib inline"
   ]
  },
  {
   "cell_type": "code",
   "execution_count": 193,
   "metadata": {
    "collapsed": false
   },
   "outputs": [],
   "source": [
    "def interpolator(p0, p1, q0, q1):\n",
    "    \"\"\"\n",
    "    finds the root by straight line interpolation\n",
    "    \"\"\"\n",
    "    root = p0 + ((p1 - p0)/(q1 - q0))*(q0)\n",
    "    return root"
   ]
  },
  {
   "cell_type": "markdown",
   "metadata": {},
   "source": [
    "BVP problem:\n",
    "y'' = sqrt(y'**2 + 1)\n",
    "with boundary values:\n",
    "y(0) = 1 and\n",
    "y(1) = 1\n",
    "solved at x from 0 to 1\n"
   ]
  },
  {
   "cell_type": "markdown",
   "metadata": {},
   "source": [
    "Two DE from this BVP: \n",
    "dy/dx = z\n",
    "dz/dx = sqrt(z**2 + 1)\n"
   ]
  },
  {
   "cell_type": "code",
   "execution_count": 194,
   "metadata": {
    "collapsed": true
   },
   "outputs": [],
   "source": [
    "# function definitions\n",
    "def f1(z):\n",
    "    return z\n",
    "\n",
    "def f2(z):\n",
    "    return np.sqrt(z**2 + 1)"
   ]
  },
  {
   "cell_type": "code",
   "execution_count": 195,
   "metadata": {
    "collapsed": true
   },
   "outputs": [],
   "source": [
    "#Euler integrator\n",
    "\n",
    "def euler(f1, f2, y, z, h):\n",
    "    y[0] = y_0\n",
    "    z[0] = z_0    # z = dy/dx\n",
    "    # Solution\n",
    "    for i in range(np.size(y)-1):\n",
    "        y[i+1] = y[i] +f1(z[i])*h\n",
    "        z[i+1] = z[i] +f2(z[i])*h\n",
    "    return y,z "
   ]
  },
  {
   "cell_type": "code",
   "execution_count": 196,
   "metadata": {
    "collapsed": true
   },
   "outputs": [],
   "source": [
    "# Guess 1: y'(0) = -1.0 \n",
    "\n",
    "y_0 = 1.0\n",
    "z_0 = -1.0\n",
    "a = 0.0\n",
    "b = 1.0\n",
    "N = 2000\n",
    "x_space = np.linspace(a,b,N)\n",
    "h = (b-a)/N\n",
    "y = np.zeros(np.size(x_space))\n",
    "z = np.zeros(np.size(x_space))"
   ]
  },
  {
   "cell_type": "code",
   "execution_count": 197,
   "metadata": {
    "collapsed": false
   },
   "outputs": [
    {
     "name": "stdout",
     "output_type": "stream",
     "text": [
      "[ 1.          0.9995      0.99900035 ...,  0.59243797  0.59249671\n",
      "  0.5925557 ]\n"
     ]
    }
   ],
   "source": [
    "sy0, sz0 =  euler(f1, f2, y, z, h)\n",
    "print sy0\n",
    "guess0 = sy0[-1] # fetching the last element of sy0 array"
   ]
  },
  {
   "cell_type": "code",
   "execution_count": 198,
   "metadata": {
    "collapsed": true
   },
   "outputs": [],
   "source": [
    "# It can be seen (last member of sy0) that we get y(1) = 0.5925557 while y(1) = 1.0 is desired, a new guess is needed\n",
    "\n",
    "# Guess 2: y'(0) = 1.0, everything stays the same, we only update the new guess\n",
    "z_0 = 1.0\n"
   ]
  },
  {
   "cell_type": "code",
   "execution_count": 199,
   "metadata": {
    "collapsed": false
   },
   "outputs": [
    {
     "name": "stdout",
     "output_type": "stream",
     "text": [
      "[ 1.          1.0005      1.00100035 ...,  2.93761852  2.93921817\n",
      "  2.94081867]\n"
     ]
    }
   ],
   "source": [
    "sy1, sz1 = euler(f1, f2, y, z, h)\n",
    "print sy1\n",
    "guess1 = sy1[-1]"
   ]
  },
  {
   "cell_type": "code",
   "execution_count": 200,
   "metadata": {
    "collapsed": false
   },
   "outputs": [
    {
     "data": {
      "text/plain": [
       "-0.49532423482396326"
      ]
     },
     "execution_count": 200,
     "metadata": {},
     "output_type": "execute_result"
    }
   ],
   "source": [
    "# new guess puts y(1) = 2.94081867....a bit too high for desired y(1) = 1.0. Linear interpolation between the previous guesses \n",
    "# may provide a suitable new guess\n",
    "interpolator(-1.0, 1.0, guess0, guess1)"
   ]
  },
  {
   "cell_type": "code",
   "execution_count": 201,
   "metadata": {
    "collapsed": false
   },
   "outputs": [
    {
     "data": {
      "text/plain": [
       "(array([ 1.        ,  0.99975235,  0.99950498, ...,  1.02290619,\n",
       "         1.02317892,  1.02345193]),\n",
       " array([-0.4953    , -0.49474203, -0.49418418, ...,  0.54545112,\n",
       "         0.54602066,  0.54659034]))"
      ]
     },
     "execution_count": 201,
     "metadata": {},
     "output_type": "execute_result"
    }
   ],
   "source": [
    "# for the guess y'(0) = -0.4953 we get a reasonable match (all factors considered) y(1) = 1.02\n",
    "z_0 = -0.4953\n",
    "euler(f1, f2, y, z, h)"
   ]
  },
  {
   "cell_type": "code",
   "execution_count": 202,
   "metadata": {
    "collapsed": false
   },
   "outputs": [
    {
     "data": {
      "image/png": "[encoded data removed]",
      "text/plain": [
       "<matplotlib.figure.Figure at 0x8ae0860>"
      ]
     },
     "metadata": {},
     "output_type": "display_data"
    }
   ],
   "source": [
    "# Plotting the solution\n",
    "sy_fin, sz_fin = euler(f1, f2, y, z, h)\n",
    "plt.plot(x_space, sy_fin)\n",
    "plt.show()"
   ]
  },
  {
   "cell_type": "code",
   "execution_count": null,
   "metadata": {
    "collapsed": true
   },
   "outputs": [],
   "source": []
  }
 ],
 "metadata": {
  "kernelspec": {
   "display_name": "Python 2",
   "language": "python",
   "name": "python2"
  },
  "language_info": {
   "codemirror_mode": {
    "name": "ipython",
    "version": 2
   },
   "file_extension": ".py",
   "mimetype": "text/x-python",
   "name": "python",
   "nbconvert_exporter": "python",
   "pygments_lexer": "ipython2",
   "version": "2.7.11"
  }
 },
 "nbformat": 4,
 "nbformat_minor": 0
}
